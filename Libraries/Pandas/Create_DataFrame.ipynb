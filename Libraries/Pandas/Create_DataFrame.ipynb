{
 "cells": [
  {
   "cell_type": "markdown",
   "metadata": {},
   "source": [
    "# Creating a DataFrame\n",
    "   - pd.DataFrame() is a combination of rows & columns"
   ]
  },
  {
   "cell_type": "markdown",
   "metadata": {},
   "source": [
    "### Python Dictionary"
   ]
  },
  {
   "cell_type": "code",
   "execution_count": 52,
   "metadata": {},
   "outputs": [],
   "source": [
    "# Create a dictionary in python only single entity\n",
    "\n",
    "# keys ---> columns\n",
    "# values---> rows\n",
    "\n",
    "persons = {\n",
    "    'FName':'Mukesh',\n",
    "    'LName':'Yadav',\n",
    "    'Occupation':'Engineer',\n",
    "    'Location':'Jaipur',\n",
    "    'PinCode':303106,\n",
    "    'Hobby':'Reading'\n",
    "}"
   ]
  },
  {
   "cell_type": "code",
   "execution_count": 20,
   "metadata": {},
   "outputs": [
    {
     "data": {
      "text/plain": [
       "{'FName': 'Mukesh',\n",
       " 'LName': 'Yadav',\n",
       " 'Occupation': 'Engineer',\n",
       " 'Location': 'Jaipur',\n",
       " 'PinCode': 303106,\n",
       " 'Hobby': 'Reading'}"
      ]
     },
     "execution_count": 20,
     "metadata": {},
     "output_type": "execute_result"
    }
   ],
   "source": [
    "persons"
   ]
  },
  {
   "cell_type": "code",
   "execution_count": 21,
   "metadata": {},
   "outputs": [],
   "source": [
    "# Create a dictionary in python using multile entity using pythin lists\n",
    "\n",
    "persons1 = {\n",
    "    'FName':['Mukesh','Admin','Raja'],\n",
    "    'LName':['Yadav', 'admin','Sastri'],\n",
    "    'Occupation':['Engineer','Product Ownor','Architect'],\n",
    "    'Location':['Jaipur', 'Delhi', 'Pink city'],\n",
    "    'PinCode':['303106', '302020', '302016'],\n",
    "    'Hobby':['Reading', 'Study','playing']\n",
    "             }"
   ]
  },
  {
   "cell_type": "code",
   "execution_count": 22,
   "metadata": {},
   "outputs": [
    {
     "data": {
      "text/plain": [
       "{'FName': ['Mukesh', 'Admin', 'Raja'],\n",
       " 'LName': ['Yadav', 'admin', 'Sastri'],\n",
       " 'Occupation': ['Engineer', 'Product Ownor', 'Architect'],\n",
       " 'Location': ['Jaipur', 'Delhi', 'Pink city'],\n",
       " 'PinCode': ['303106', '302020', '302016'],\n",
       " 'Hobby': ['Reading', 'Study', 'playing']}"
      ]
     },
     "execution_count": 22,
     "metadata": {},
     "output_type": "execute_result"
    }
   ],
   "source": [
    "persons1"
   ]
  },
  {
   "cell_type": "code",
   "execution_count": 47,
   "metadata": {},
   "outputs": [
    {
     "data": {
      "text/plain": [
       "'Raja'"
      ]
     },
     "execution_count": 47,
     "metadata": {},
     "output_type": "execute_result"
    }
   ],
   "source": [
    "persons1['FName'][2]"
   ]
  },
  {
   "cell_type": "markdown",
   "metadata": {},
   "source": [
    "### Create a DataFrame"
   ]
  },
  {
   "cell_type": "code",
   "execution_count": 23,
   "metadata": {},
   "outputs": [],
   "source": [
    "# Create a DataFrame\n",
    "import pandas as pd\n"
   ]
  },
  {
   "cell_type": "code",
   "execution_count": 51,
   "metadata": {},
   "outputs": [
    {
     "data": {
      "text/html": [
       "<div>\n",
       "<style scoped>\n",
       "    .dataframe tbody tr th:only-of-type {\n",
       "        vertical-align: middle;\n",
       "    }\n",
       "\n",
       "    .dataframe tbody tr th {\n",
       "        vertical-align: top;\n",
       "    }\n",
       "\n",
       "    .dataframe thead th {\n",
       "        text-align: right;\n",
       "    }\n",
       "</style>\n",
       "<table border=\"1\" class=\"dataframe\">\n",
       "  <thead>\n",
       "    <tr style=\"text-align: right;\">\n",
       "      <th></th>\n",
       "      <th>FName</th>\n",
       "      <th>LName</th>\n",
       "      <th>Occupation</th>\n",
       "      <th>Location</th>\n",
       "      <th>PinCode</th>\n",
       "      <th>Hobby</th>\n",
       "    </tr>\n",
       "  </thead>\n",
       "  <tbody>\n",
       "    <tr>\n",
       "      <th>0</th>\n",
       "      <td>Mukesh</td>\n",
       "      <td>Yadav</td>\n",
       "      <td>Engineer</td>\n",
       "      <td>Jaipur</td>\n",
       "      <td>303106</td>\n",
       "      <td>Reading</td>\n",
       "    </tr>\n",
       "    <tr>\n",
       "      <th>1</th>\n",
       "      <td>Admin</td>\n",
       "      <td>admin</td>\n",
       "      <td>Product Ownor</td>\n",
       "      <td>Delhi</td>\n",
       "      <td>302020</td>\n",
       "      <td>Study</td>\n",
       "    </tr>\n",
       "    <tr>\n",
       "      <th>2</th>\n",
       "      <td>Raja</td>\n",
       "      <td>Sastri</td>\n",
       "      <td>Architect</td>\n",
       "      <td>Pink city</td>\n",
       "      <td>302016</td>\n",
       "      <td>playing</td>\n",
       "    </tr>\n",
       "  </tbody>\n",
       "</table>\n",
       "</div>"
      ],
      "text/plain": [
       "    FName   LName     Occupation   Location PinCode    Hobby\n",
       "0  Mukesh   Yadav       Engineer     Jaipur  303106  Reading\n",
       "1   Admin   admin  Product Ownor      Delhi  302020    Study\n",
       "2    Raja  Sastri      Architect  Pink city  302016  playing"
      ]
     },
     "execution_count": 51,
     "metadata": {},
     "output_type": "execute_result"
    }
   ],
   "source": [
    "\n",
    "df = pd.DataFrame(persons1)\n",
    "df"
   ]
  },
  {
   "cell_type": "code",
   "execution_count": 25,
   "metadata": {},
   "outputs": [
    {
     "data": {
      "text/plain": [
       "0    Reading\n",
       "1      Study\n",
       "2    playing\n",
       "Name: Hobby, dtype: object"
      ]
     },
     "execution_count": 25,
     "metadata": {},
     "output_type": "execute_result"
    }
   ],
   "source": [
    "# Accessing a column is same as accessing a value from a dictionary\n",
    "df['Hobby']"
   ]
  },
  {
   "cell_type": "code",
   "execution_count": 29,
   "metadata": {},
   "outputs": [
    {
     "data": {
      "text/plain": [
       "0    Reading\n",
       "1      Study\n",
       "2    playing\n",
       "Name: Hobby, dtype: object"
      ]
     },
     "execution_count": 29,
     "metadata": {},
     "output_type": "execute_result"
    }
   ],
   "source": [
    "#Even we can access using (. dot) notation like this-\n",
    "df.Hobby"
   ]
  },
  {
   "cell_type": "code",
   "execution_count": 30,
   "metadata": {},
   "outputs": [],
   "source": [
    "# Here I will recommend to use 1st approach using [] because sometime columns name might be same as attributes name in that case dot natation will give error.\n",
    "# eg. if data frame has a column name as count and accessing that using . notation will give error"
   ]
  },
  {
   "cell_type": "code",
   "execution_count": 31,
   "metadata": {},
   "outputs": [
    {
     "data": {
      "text/plain": [
       "pandas.core.series.Series"
      ]
     },
     "execution_count": 31,
     "metadata": {},
     "output_type": "execute_result"
    }
   ],
   "source": [
    "# Check the type of the column-\n",
    "type(df['Hobby'])"
   ]
  },
  {
   "cell_type": "code",
   "execution_count": 32,
   "metadata": {},
   "outputs": [],
   "source": [
    "#Series basically a list of data but like a data frame it has more functionality"
   ]
  },
  {
   "cell_type": "markdown",
   "metadata": {},
   "source": [
    "### Access multiple columns from data frame-"
   ]
  },
  {
   "cell_type": "code",
   "execution_count": 34,
   "metadata": {},
   "outputs": [
    {
     "data": {
      "text/html": [
       "<div>\n",
       "<style scoped>\n",
       "    .dataframe tbody tr th:only-of-type {\n",
       "        vertical-align: middle;\n",
       "    }\n",
       "\n",
       "    .dataframe tbody tr th {\n",
       "        vertical-align: top;\n",
       "    }\n",
       "\n",
       "    .dataframe thead th {\n",
       "        text-align: right;\n",
       "    }\n",
       "</style>\n",
       "<table border=\"1\" class=\"dataframe\">\n",
       "  <thead>\n",
       "    <tr style=\"text-align: right;\">\n",
       "      <th></th>\n",
       "      <th>FNameh</th>\n",
       "      <th>Location</th>\n",
       "      <th>Hobby</th>\n",
       "    </tr>\n",
       "  </thead>\n",
       "  <tbody>\n",
       "    <tr>\n",
       "      <th>0</th>\n",
       "      <td>Mukesh</td>\n",
       "      <td>Jaipur</td>\n",
       "      <td>Reading</td>\n",
       "    </tr>\n",
       "    <tr>\n",
       "      <th>1</th>\n",
       "      <td>Admin</td>\n",
       "      <td>Delhi</td>\n",
       "      <td>Study</td>\n",
       "    </tr>\n",
       "    <tr>\n",
       "      <th>2</th>\n",
       "      <td>Raja</td>\n",
       "      <td>Pink city</td>\n",
       "      <td>playing</td>\n",
       "    </tr>\n",
       "  </tbody>\n",
       "</table>\n",
       "</div>"
      ],
      "text/plain": [
       "    FName   Location    Hobby\n",
       "0  Mukesh     Jaipur  Reading\n",
       "1   Admin      Delhi    Study\n",
       "2    Raja  Pink city  playing"
      ]
     },
     "execution_count": 34,
     "metadata": {},
     "output_type": "execute_result"
    }
   ],
   "source": [
    "df[['FName','Location','Hobby']]"
   ]
  },
  {
   "cell_type": "code",
   "execution_count": 35,
   "metadata": {},
   "outputs": [
    {
     "data": {
      "text/plain": [
       "Index(['FName', 'LName', 'Occupation', 'Location', 'PinCode', 'Hobby'], dtype='object')"
      ]
     },
     "execution_count": 35,
     "metadata": {},
     "output_type": "execute_result"
    }
   ],
   "source": [
    "#To check list of columns\n",
    "df.columns"
   ]
  },
  {
   "cell_type": "markdown",
   "metadata": {},
   "source": [
    "###  Access rows \n",
    "   - loc - searching by label\n",
    "   - iloc - Allows us to access rows by using integer location"
   ]
  },
  {
   "cell_type": "code",
   "execution_count": 37,
   "metadata": {},
   "outputs": [
    {
     "data": {
      "text/plain": [
       "FName                 Admin\n",
       "LName                 admin\n",
       "Occupation    Product Ownor\n",
       "Location              Delhi\n",
       "PinCode              302020\n",
       "Hobby                 Study\n",
       "Name: 1, dtype: object"
      ]
     },
     "execution_count": 37,
     "metadata": {},
     "output_type": "execute_result"
    }
   ],
   "source": [
    "df.iloc[1]\n"
   ]
  },
  {
   "cell_type": "code",
   "execution_count": 38,
   "metadata": {},
   "outputs": [
    {
     "data": {
      "text/html": [
       "<div>\n",
       "<style scoped>\n",
       "    .dataframe tbody tr th:only-of-type {\n",
       "        vertical-align: middle;\n",
       "    }\n",
       "\n",
       "    .dataframe tbody tr th {\n",
       "        vertical-align: top;\n",
       "    }\n",
       "\n",
       "    .dataframe thead th {\n",
       "        text-align: right;\n",
       "    }\n",
       "</style>\n",
       "<table border=\"1\" class=\"dataframe\">\n",
       "  <thead>\n",
       "    <tr style=\"text-align: right;\">\n",
       "      <th></th>\n",
       "      <th>FName</th>\n",
       "      <th>LName</th>\n",
       "      <th>Occupation</th>\n",
       "      <th>Location</th>\n",
       "      <th>PinCode</th>\n",
       "      <th>Hobby</th>\n",
       "    </tr>\n",
       "  </thead>\n",
       "  <tbody>\n",
       "    <tr>\n",
       "      <th>0</th>\n",
       "      <td>Mukesh</td>\n",
       "      <td>Yadav</td>\n",
       "      <td>Engineer</td>\n",
       "      <td>Jaipur</td>\n",
       "      <td>303106</td>\n",
       "      <td>Reading</td>\n",
       "    </tr>\n",
       "    <tr>\n",
       "      <th>1</th>\n",
       "      <td>Admin</td>\n",
       "      <td>admin</td>\n",
       "      <td>Product Ownor</td>\n",
       "      <td>Delhi</td>\n",
       "      <td>302020</td>\n",
       "      <td>Study</td>\n",
       "    </tr>\n",
       "  </tbody>\n",
       "</table>\n",
       "</div>"
      ],
      "text/plain": [
       "    FName  LName     Occupation Location PinCode    Hobby\n",
       "0  Mukesh  Yadav       Engineer   Jaipur  303106  Reading\n",
       "1   Admin  admin  Product Ownor    Delhi  302020    Study"
      ]
     },
     "execution_count": 38,
     "metadata": {},
     "output_type": "execute_result"
    }
   ],
   "source": [
    "# Access multiple rows\n",
    "df.iloc[[0,1]]"
   ]
  },
  {
   "cell_type": "code",
   "execution_count": 41,
   "metadata": {},
   "outputs": [
    {
     "data": {
      "text/plain": [
       "0    Jaipur\n",
       "1     Delhi\n",
       "Name: Location, dtype: object"
      ]
     },
     "execution_count": 41,
     "metadata": {},
     "output_type": "execute_result"
    }
   ],
   "source": [
    "# we can also specify the column index for which we need data, 1st [] are for rows and 2nd [] for column index \n",
    "df.iloc[[0,1], 3]"
   ]
  },
  {
   "cell_type": "code",
   "execution_count": 44,
   "metadata": {},
   "outputs": [
    {
     "data": {
      "text/html": [
       "<div>\n",
       "<style scoped>\n",
       "    .dataframe tbody tr th:only-of-type {\n",
       "        vertical-align: middle;\n",
       "    }\n",
       "\n",
       "    .dataframe tbody tr th {\n",
       "        vertical-align: top;\n",
       "    }\n",
       "\n",
       "    .dataframe thead th {\n",
       "        text-align: right;\n",
       "    }\n",
       "</style>\n",
       "<table border=\"1\" class=\"dataframe\">\n",
       "  <thead>\n",
       "    <tr style=\"text-align: right;\">\n",
       "      <th></th>\n",
       "      <th>FName</th>\n",
       "      <th>LName</th>\n",
       "      <th>Occupation</th>\n",
       "      <th>Location</th>\n",
       "      <th>PinCode</th>\n",
       "      <th>Hobby</th>\n",
       "    </tr>\n",
       "  </thead>\n",
       "  <tbody>\n",
       "    <tr>\n",
       "      <th>0</th>\n",
       "      <td>Mukesh</td>\n",
       "      <td>Yadav</td>\n",
       "      <td>Engineer</td>\n",
       "      <td>Jaipur</td>\n",
       "      <td>303106</td>\n",
       "      <td>Reading</td>\n",
       "    </tr>\n",
       "    <tr>\n",
       "      <th>1</th>\n",
       "      <td>Admin</td>\n",
       "      <td>admin</td>\n",
       "      <td>Product Ownor</td>\n",
       "      <td>Delhi</td>\n",
       "      <td>302020</td>\n",
       "      <td>Study</td>\n",
       "    </tr>\n",
       "    <tr>\n",
       "      <th>2</th>\n",
       "      <td>Raja</td>\n",
       "      <td>Sastri</td>\n",
       "      <td>Architect</td>\n",
       "      <td>Pink city</td>\n",
       "      <td>302016</td>\n",
       "      <td>playing</td>\n",
       "    </tr>\n",
       "  </tbody>\n",
       "</table>\n",
       "</div>"
      ],
      "text/plain": [
       "    FName   LName     Occupation   Location PinCode    Hobby\n",
       "0  Mukesh   Yadav       Engineer     Jaipur  303106  Reading\n",
       "1   Admin   admin  Product Ownor      Delhi  302020    Study\n",
       "2    Raja  Sastri      Architect  Pink city  302016  playing"
      ]
     },
     "execution_count": 44,
     "metadata": {},
     "output_type": "execute_result"
    }
   ],
   "source": [
    "df"
   ]
  },
  {
   "cell_type": "code",
   "execution_count": 46,
   "metadata": {},
   "outputs": [
    {
     "data": {
      "text/plain": [
       "0    303106\n",
       "1    302020\n",
       "Name: PinCode, dtype: object"
      ]
     },
     "execution_count": 46,
     "metadata": {},
     "output_type": "execute_result"
    }
   ],
   "source": [
    "#Similarly we can use loc- we can mention the column name\n",
    "df.loc[[0,1], 'PinCode']"
   ]
  },
  {
   "cell_type": "code",
   "execution_count": 49,
   "metadata": {},
   "outputs": [
    {
     "data": {
      "text/html": [
       "<div>\n",
       "<style scoped>\n",
       "    .dataframe tbody tr th:only-of-type {\n",
       "        vertical-align: middle;\n",
       "    }\n",
       "\n",
       "    .dataframe tbody tr th {\n",
       "        vertical-align: top;\n",
       "    }\n",
       "\n",
       "    .dataframe thead th {\n",
       "        text-align: right;\n",
       "    }\n",
       "</style>\n",
       "<table border=\"1\" class=\"dataframe\">\n",
       "  <thead>\n",
       "    <tr style=\"text-align: right;\">\n",
       "      <th></th>\n",
       "      <th>Hobby</th>\n",
       "      <th>FName</th>\n",
       "    </tr>\n",
       "  </thead>\n",
       "  <tbody>\n",
       "    <tr>\n",
       "      <th>0</th>\n",
       "      <td>Reading</td>\n",
       "      <td>Mukesh</td>\n",
       "    </tr>\n",
       "    <tr>\n",
       "      <th>1</th>\n",
       "      <td>Study</td>\n",
       "      <td>Admin</td>\n",
       "    </tr>\n",
       "  </tbody>\n",
       "</table>\n",
       "</div>"
      ],
      "text/plain": [
       "     Hobby   FName\n",
       "0  Reading  Mukesh\n",
       "1    Study   Admin"
      ]
     },
     "execution_count": 49,
     "metadata": {},
     "output_type": "execute_result"
    }
   ],
   "source": [
    "# in the above line I've mentioned only 1 column name, if you want to access multiple column than pass list of columns\n",
    "\n",
    "df.loc[[0,1], ['Hobby','FName']]"
   ]
  },
  {
   "cell_type": "code",
   "execution_count": null,
   "metadata": {},
   "outputs": [],
   "source": []
  },
  {
   "cell_type": "markdown",
   "metadata": {},
   "source": [
    "### Set Reset and use Index \n",
    "   - index selection should be unique"
   ]
  },
  {
   "cell_type": "code",
   "execution_count": 57,
   "metadata": {},
   "outputs": [
    {
     "data": {
      "text/html": [
       "<div>\n",
       "<style scoped>\n",
       "    .dataframe tbody tr th:only-of-type {\n",
       "        vertical-align: middle;\n",
       "    }\n",
       "\n",
       "    .dataframe tbody tr th {\n",
       "        vertical-align: top;\n",
       "    }\n",
       "\n",
       "    .dataframe thead th {\n",
       "        text-align: right;\n",
       "    }\n",
       "</style>\n",
       "<table border=\"1\" class=\"dataframe\">\n",
       "  <thead>\n",
       "    <tr style=\"text-align: right;\">\n",
       "      <th></th>\n",
       "      <th>FName</th>\n",
       "      <th>LName</th>\n",
       "      <th>Occupation</th>\n",
       "      <th>Location</th>\n",
       "      <th>PinCode</th>\n",
       "    </tr>\n",
       "    <tr>\n",
       "      <th>Hobby</th>\n",
       "      <th></th>\n",
       "      <th></th>\n",
       "      <th></th>\n",
       "      <th></th>\n",
       "      <th></th>\n",
       "    </tr>\n",
       "  </thead>\n",
       "  <tbody>\n",
       "    <tr>\n",
       "      <th>Reading</th>\n",
       "      <td>Mukesh</td>\n",
       "      <td>Yadav</td>\n",
       "      <td>Engineer</td>\n",
       "      <td>Jaipur</td>\n",
       "      <td>303106</td>\n",
       "    </tr>\n",
       "    <tr>\n",
       "      <th>Study</th>\n",
       "      <td>Admin</td>\n",
       "      <td>admin</td>\n",
       "      <td>Product Ownor</td>\n",
       "      <td>Delhi</td>\n",
       "      <td>302020</td>\n",
       "    </tr>\n",
       "    <tr>\n",
       "      <th>playing</th>\n",
       "      <td>Raja</td>\n",
       "      <td>Sastri</td>\n",
       "      <td>Architect</td>\n",
       "      <td>Pink city</td>\n",
       "      <td>302016</td>\n",
       "    </tr>\n",
       "  </tbody>\n",
       "</table>\n",
       "</div>"
      ],
      "text/plain": [
       "          FName   LName     Occupation   Location PinCode\n",
       "Hobby                                                    \n",
       "Reading  Mukesh   Yadav       Engineer     Jaipur  303106\n",
       "Study     Admin   admin  Product Ownor      Delhi  302020\n",
       "playing    Raja  Sastri      Architect  Pink city  302016"
      ]
     },
     "execution_count": 57,
     "metadata": {},
     "output_type": "execute_result"
    }
   ],
   "source": [
    "#Basically select the unique column for the index like empID columns or emailID\n",
    "\n",
    "df.set_index('Hobby')"
   ]
  },
  {
   "cell_type": "code",
   "execution_count": 58,
   "metadata": {},
   "outputs": [
    {
     "data": {
      "text/html": [
       "<div>\n",
       "<style scoped>\n",
       "    .dataframe tbody tr th:only-of-type {\n",
       "        vertical-align: middle;\n",
       "    }\n",
       "\n",
       "    .dataframe tbody tr th {\n",
       "        vertical-align: top;\n",
       "    }\n",
       "\n",
       "    .dataframe thead th {\n",
       "        text-align: right;\n",
       "    }\n",
       "</style>\n",
       "<table border=\"1\" class=\"dataframe\">\n",
       "  <thead>\n",
       "    <tr style=\"text-align: right;\">\n",
       "      <th></th>\n",
       "      <th>FName</th>\n",
       "      <th>LName</th>\n",
       "      <th>Occupation</th>\n",
       "      <th>Location</th>\n",
       "      <th>PinCode</th>\n",
       "      <th>Hobby</th>\n",
       "    </tr>\n",
       "  </thead>\n",
       "  <tbody>\n",
       "    <tr>\n",
       "      <th>0</th>\n",
       "      <td>Mukesh</td>\n",
       "      <td>Yadav</td>\n",
       "      <td>Engineer</td>\n",
       "      <td>Jaipur</td>\n",
       "      <td>303106</td>\n",
       "      <td>Reading</td>\n",
       "    </tr>\n",
       "    <tr>\n",
       "      <th>1</th>\n",
       "      <td>Admin</td>\n",
       "      <td>admin</td>\n",
       "      <td>Product Ownor</td>\n",
       "      <td>Delhi</td>\n",
       "      <td>302020</td>\n",
       "      <td>Study</td>\n",
       "    </tr>\n",
       "    <tr>\n",
       "      <th>2</th>\n",
       "      <td>Raja</td>\n",
       "      <td>Sastri</td>\n",
       "      <td>Architect</td>\n",
       "      <td>Pink city</td>\n",
       "      <td>302016</td>\n",
       "      <td>playing</td>\n",
       "    </tr>\n",
       "  </tbody>\n",
       "</table>\n",
       "</div>"
      ],
      "text/plain": [
       "    FName   LName     Occupation   Location PinCode    Hobby\n",
       "0  Mukesh   Yadav       Engineer     Jaipur  303106  Reading\n",
       "1   Admin   admin  Product Ownor      Delhi  302020    Study\n",
       "2    Raja  Sastri      Architect  Pink city  302016  playing"
      ]
     },
     "execution_count": 58,
     "metadata": {},
     "output_type": "execute_result"
    }
   ],
   "source": [
    "df\n"
   ]
  },
  {
   "cell_type": "code",
   "execution_count": 59,
   "metadata": {},
   "outputs": [],
   "source": [
    "# To reflect the changes in the original data frame - \n",
    "\n",
    "df.set_index('Hobby', inplace=True)"
   ]
  },
  {
   "cell_type": "code",
   "execution_count": 60,
   "metadata": {},
   "outputs": [
    {
     "data": {
      "text/html": [
       "<div>\n",
       "<style scoped>\n",
       "    .dataframe tbody tr th:only-of-type {\n",
       "        vertical-align: middle;\n",
       "    }\n",
       "\n",
       "    .dataframe tbody tr th {\n",
       "        vertical-align: top;\n",
       "    }\n",
       "\n",
       "    .dataframe thead th {\n",
       "        text-align: right;\n",
       "    }\n",
       "</style>\n",
       "<table border=\"1\" class=\"dataframe\">\n",
       "  <thead>\n",
       "    <tr style=\"text-align: right;\">\n",
       "      <th></th>\n",
       "      <th>FName</th>\n",
       "      <th>LName</th>\n",
       "      <th>Occupation</th>\n",
       "      <th>Location</th>\n",
       "      <th>PinCode</th>\n",
       "    </tr>\n",
       "    <tr>\n",
       "      <th>Hobby</th>\n",
       "      <th></th>\n",
       "      <th></th>\n",
       "      <th></th>\n",
       "      <th></th>\n",
       "      <th></th>\n",
       "    </tr>\n",
       "  </thead>\n",
       "  <tbody>\n",
       "    <tr>\n",
       "      <th>Reading</th>\n",
       "      <td>Mukesh</td>\n",
       "      <td>Yadav</td>\n",
       "      <td>Engineer</td>\n",
       "      <td>Jaipur</td>\n",
       "      <td>303106</td>\n",
       "    </tr>\n",
       "    <tr>\n",
       "      <th>Study</th>\n",
       "      <td>Admin</td>\n",
       "      <td>admin</td>\n",
       "      <td>Product Ownor</td>\n",
       "      <td>Delhi</td>\n",
       "      <td>302020</td>\n",
       "    </tr>\n",
       "    <tr>\n",
       "      <th>playing</th>\n",
       "      <td>Raja</td>\n",
       "      <td>Sastri</td>\n",
       "      <td>Architect</td>\n",
       "      <td>Pink city</td>\n",
       "      <td>302016</td>\n",
       "    </tr>\n",
       "  </tbody>\n",
       "</table>\n",
       "</div>"
      ],
      "text/plain": [
       "          FName   LName     Occupation   Location PinCode\n",
       "Hobby                                                    \n",
       "Reading  Mukesh   Yadav       Engineer     Jaipur  303106\n",
       "Study     Admin   admin  Product Ownor      Delhi  302020\n",
       "playing    Raja  Sastri      Architect  Pink city  302016"
      ]
     },
     "execution_count": 60,
     "metadata": {},
     "output_type": "execute_result"
    }
   ],
   "source": [
    "df"
   ]
  },
  {
   "cell_type": "code",
   "execution_count": 74,
   "metadata": {},
   "outputs": [
    {
     "data": {
      "text/plain": [
       "FName           Mukesh\n",
       "LName            Yadav\n",
       "Occupation    Engineer\n",
       "Location        Jaipur\n",
       "PinCode         303106\n",
       "Name: Reading, dtype: object"
      ]
     },
     "execution_count": 74,
     "metadata": {},
     "output_type": "execute_result"
    }
   ],
   "source": [
    "# Previous we're using index from 0--n to access the rows but now we have set the new index so access like below-\n",
    "\n",
    "df.loc['Reading']"
   ]
  },
  {
   "cell_type": "code",
   "execution_count": 76,
   "metadata": {},
   "outputs": [
    {
     "data": {
      "text/plain": [
       "FName           Mukesh\n",
       "LName            Yadav\n",
       "Occupation    Engineer\n",
       "Location        Jaipur\n",
       "PinCode         303106\n",
       "Name: Reading, dtype: object"
      ]
     },
     "execution_count": 76,
     "metadata": {},
     "output_type": "execute_result"
    }
   ],
   "source": [
    "# But the index access from 0--n will work with iloc\n",
    "\n",
    "df.iloc[0]"
   ]
  },
  {
   "cell_type": "code",
   "execution_count": 79,
   "metadata": {},
   "outputs": [
    {
     "data": {
      "text/html": [
       "<div>\n",
       "<style scoped>\n",
       "    .dataframe tbody tr th:only-of-type {\n",
       "        vertical-align: middle;\n",
       "    }\n",
       "\n",
       "    .dataframe tbody tr th {\n",
       "        vertical-align: top;\n",
       "    }\n",
       "\n",
       "    .dataframe thead th {\n",
       "        text-align: right;\n",
       "    }\n",
       "</style>\n",
       "<table border=\"1\" class=\"dataframe\">\n",
       "  <thead>\n",
       "    <tr style=\"text-align: right;\">\n",
       "      <th></th>\n",
       "      <th>index</th>\n",
       "      <th>Hobby</th>\n",
       "      <th>FName</th>\n",
       "      <th>LName</th>\n",
       "      <th>Occupation</th>\n",
       "      <th>Location</th>\n",
       "      <th>PinCode</th>\n",
       "    </tr>\n",
       "  </thead>\n",
       "  <tbody>\n",
       "    <tr>\n",
       "      <th>0</th>\n",
       "      <td>0</td>\n",
       "      <td>Reading</td>\n",
       "      <td>Mukesh</td>\n",
       "      <td>Yadav</td>\n",
       "      <td>Engineer</td>\n",
       "      <td>Jaipur</td>\n",
       "      <td>303106</td>\n",
       "    </tr>\n",
       "    <tr>\n",
       "      <th>1</th>\n",
       "      <td>1</td>\n",
       "      <td>Study</td>\n",
       "      <td>Admin</td>\n",
       "      <td>admin</td>\n",
       "      <td>Product Ownor</td>\n",
       "      <td>Delhi</td>\n",
       "      <td>302020</td>\n",
       "    </tr>\n",
       "    <tr>\n",
       "      <th>2</th>\n",
       "      <td>2</td>\n",
       "      <td>playing</td>\n",
       "      <td>Raja</td>\n",
       "      <td>Sastri</td>\n",
       "      <td>Architect</td>\n",
       "      <td>Pink city</td>\n",
       "      <td>302016</td>\n",
       "    </tr>\n",
       "  </tbody>\n",
       "</table>\n",
       "</div>"
      ],
      "text/plain": [
       "   index    Hobby   FName   LName     Occupation   Location PinCode\n",
       "0      0  Reading  Mukesh   Yadav       Engineer     Jaipur  303106\n",
       "1      1    Study   Admin   admin  Product Ownor      Delhi  302020\n",
       "2      2  playing    Raja  Sastri      Architect  Pink city  302016"
      ]
     },
     "execution_count": 79,
     "metadata": {},
     "output_type": "execute_result"
    }
   ],
   "source": [
    "# For reset index\n",
    "\n",
    "df.reset_index(inplace=True)\n",
    "df"
   ]
  },
  {
   "cell_type": "code",
   "execution_count": 78,
   "metadata": {},
   "outputs": [
    {
     "data": {
      "text/html": [
       "<div>\n",
       "<style scoped>\n",
       "    .dataframe tbody tr th:only-of-type {\n",
       "        vertical-align: middle;\n",
       "    }\n",
       "\n",
       "    .dataframe tbody tr th {\n",
       "        vertical-align: top;\n",
       "    }\n",
       "\n",
       "    .dataframe thead th {\n",
       "        text-align: right;\n",
       "    }\n",
       "</style>\n",
       "<table border=\"1\" class=\"dataframe\">\n",
       "  <thead>\n",
       "    <tr style=\"text-align: right;\">\n",
       "      <th></th>\n",
       "      <th>Hobby</th>\n",
       "      <th>FName</th>\n",
       "      <th>LName</th>\n",
       "      <th>Occupation</th>\n",
       "      <th>Location</th>\n",
       "      <th>PinCode</th>\n",
       "    </tr>\n",
       "  </thead>\n",
       "  <tbody>\n",
       "    <tr>\n",
       "      <th>0</th>\n",
       "      <td>Reading</td>\n",
       "      <td>Mukesh</td>\n",
       "      <td>Yadav</td>\n",
       "      <td>Engineer</td>\n",
       "      <td>Jaipur</td>\n",
       "      <td>303106</td>\n",
       "    </tr>\n",
       "    <tr>\n",
       "      <th>1</th>\n",
       "      <td>Study</td>\n",
       "      <td>Admin</td>\n",
       "      <td>admin</td>\n",
       "      <td>Product Ownor</td>\n",
       "      <td>Delhi</td>\n",
       "      <td>302020</td>\n",
       "    </tr>\n",
       "    <tr>\n",
       "      <th>2</th>\n",
       "      <td>playing</td>\n",
       "      <td>Raja</td>\n",
       "      <td>Sastri</td>\n",
       "      <td>Architect</td>\n",
       "      <td>Pink city</td>\n",
       "      <td>302016</td>\n",
       "    </tr>\n",
       "  </tbody>\n",
       "</table>\n",
       "</div>"
      ],
      "text/plain": [
       "     Hobby   FName   LName     Occupation   Location PinCode\n",
       "0  Reading  Mukesh   Yadav       Engineer     Jaipur  303106\n",
       "1    Study   Admin   admin  Product Ownor      Delhi  302020\n",
       "2  playing    Raja  Sastri      Architect  Pink city  302016"
      ]
     },
     "execution_count": 78,
     "metadata": {},
     "output_type": "execute_result"
    }
   ],
   "source": []
  },
  {
   "cell_type": "code",
   "execution_count": null,
   "metadata": {},
   "outputs": [],
   "source": []
  },
  {
   "cell_type": "markdown",
   "metadata": {},
   "source": [
    "### Filtering  - Using conditionals to filter Rows & Columns"
   ]
  },
  {
   "cell_type": "code",
   "execution_count": 82,
   "metadata": {},
   "outputs": [
    {
     "data": {
      "text/plain": [
       "0     True\n",
       "1    False\n",
       "2    False\n",
       "Name: Hobby, dtype: bool"
      ]
     },
     "execution_count": 82,
     "metadata": {},
     "output_type": "execute_result"
    }
   ],
   "source": [
    "df['Hobby'] == 'Reading'"
   ]
  },
  {
   "cell_type": "code",
   "execution_count": 83,
   "metadata": {},
   "outputs": [],
   "source": [
    "# Assign filter condition to our entire data frame - \n",
    "\n",
    "filterObj = (df['Hobby'] == 'Reading')"
   ]
  },
  {
   "cell_type": "code",
   "execution_count": 84,
   "metadata": {},
   "outputs": [
    {
     "data": {
      "text/html": [
       "<div>\n",
       "<style scoped>\n",
       "    .dataframe tbody tr th:only-of-type {\n",
       "        vertical-align: middle;\n",
       "    }\n",
       "\n",
       "    .dataframe tbody tr th {\n",
       "        vertical-align: top;\n",
       "    }\n",
       "\n",
       "    .dataframe thead th {\n",
       "        text-align: right;\n",
       "    }\n",
       "</style>\n",
       "<table border=\"1\" class=\"dataframe\">\n",
       "  <thead>\n",
       "    <tr style=\"text-align: right;\">\n",
       "      <th></th>\n",
       "      <th>index</th>\n",
       "      <th>Hobby</th>\n",
       "      <th>FName</th>\n",
       "      <th>LName</th>\n",
       "      <th>Occupation</th>\n",
       "      <th>Location</th>\n",
       "      <th>PinCode</th>\n",
       "    </tr>\n",
       "  </thead>\n",
       "  <tbody>\n",
       "    <tr>\n",
       "      <th>0</th>\n",
       "      <td>0</td>\n",
       "      <td>Reading</td>\n",
       "      <td>Mukesh</td>\n",
       "      <td>Yadav</td>\n",
       "      <td>Engineer</td>\n",
       "      <td>Jaipur</td>\n",
       "      <td>303106</td>\n",
       "    </tr>\n",
       "  </tbody>\n",
       "</table>\n",
       "</div>"
      ],
      "text/plain": [
       "   index    Hobby   FName  LName Occupation Location PinCode\n",
       "0      0  Reading  Mukesh  Yadav   Engineer   Jaipur  303106"
      ]
     },
     "execution_count": 84,
     "metadata": {},
     "output_type": "execute_result"
    }
   ],
   "source": [
    "#1st approach to assign to data frame - \n",
    "\n",
    "df[filterObj]"
   ]
  },
  {
   "cell_type": "code",
   "execution_count": 85,
   "metadata": {},
   "outputs": [
    {
     "data": {
      "text/html": [
       "<div>\n",
       "<style scoped>\n",
       "    .dataframe tbody tr th:only-of-type {\n",
       "        vertical-align: middle;\n",
       "    }\n",
       "\n",
       "    .dataframe tbody tr th {\n",
       "        vertical-align: top;\n",
       "    }\n",
       "\n",
       "    .dataframe thead th {\n",
       "        text-align: right;\n",
       "    }\n",
       "</style>\n",
       "<table border=\"1\" class=\"dataframe\">\n",
       "  <thead>\n",
       "    <tr style=\"text-align: right;\">\n",
       "      <th></th>\n",
       "      <th>index</th>\n",
       "      <th>Hobby</th>\n",
       "      <th>FName</th>\n",
       "      <th>LName</th>\n",
       "      <th>Occupation</th>\n",
       "      <th>Location</th>\n",
       "      <th>PinCode</th>\n",
       "    </tr>\n",
       "  </thead>\n",
       "  <tbody>\n",
       "    <tr>\n",
       "      <th>0</th>\n",
       "      <td>0</td>\n",
       "      <td>Reading</td>\n",
       "      <td>Mukesh</td>\n",
       "      <td>Yadav</td>\n",
       "      <td>Engineer</td>\n",
       "      <td>Jaipur</td>\n",
       "      <td>303106</td>\n",
       "    </tr>\n",
       "  </tbody>\n",
       "</table>\n",
       "</div>"
      ],
      "text/plain": [
       "   index    Hobby   FName  LName Occupation Location PinCode\n",
       "0      0  Reading  Mukesh  Yadav   Engineer   Jaipur  303106"
      ]
     },
     "execution_count": 85,
     "metadata": {},
     "output_type": "execute_result"
    }
   ],
   "source": [
    "#2nd approach to assign to data frame - \n",
    "\n",
    "df[df['Hobby'] == 'Reading']"
   ]
  },
  {
   "cell_type": "code",
   "execution_count": 90,
   "metadata": {},
   "outputs": [
    {
     "data": {
      "text/html": [
       "<div>\n",
       "<style scoped>\n",
       "    .dataframe tbody tr th:only-of-type {\n",
       "        vertical-align: middle;\n",
       "    }\n",
       "\n",
       "    .dataframe tbody tr th {\n",
       "        vertical-align: top;\n",
       "    }\n",
       "\n",
       "    .dataframe thead th {\n",
       "        text-align: right;\n",
       "    }\n",
       "</style>\n",
       "<table border=\"1\" class=\"dataframe\">\n",
       "  <thead>\n",
       "    <tr style=\"text-align: right;\">\n",
       "      <th></th>\n",
       "      <th>index</th>\n",
       "      <th>Hobby</th>\n",
       "      <th>FName</th>\n",
       "      <th>LName</th>\n",
       "      <th>Occupation</th>\n",
       "      <th>Location</th>\n",
       "      <th>PinCode</th>\n",
       "    </tr>\n",
       "  </thead>\n",
       "  <tbody>\n",
       "    <tr>\n",
       "      <th>0</th>\n",
       "      <td>0</td>\n",
       "      <td>Reading</td>\n",
       "      <td>Mukesh</td>\n",
       "      <td>Yadav</td>\n",
       "      <td>Engineer</td>\n",
       "      <td>Jaipur</td>\n",
       "      <td>303106</td>\n",
       "    </tr>\n",
       "  </tbody>\n",
       "</table>\n",
       "</div>"
      ],
      "text/plain": [
       "   index    Hobby   FName  LName Occupation Location PinCode\n",
       "0      0  Reading  Mukesh  Yadav   Engineer   Jaipur  303106"
      ]
     },
     "execution_count": 90,
     "metadata": {},
     "output_type": "execute_result"
    }
   ],
   "source": [
    "#3rd approach to assign to data frame -  \n",
    "# I prefer this approach bcz in the loc still we can do filtering based on the labels \n",
    "\n",
    "\n",
    "df.loc[filterObj]\n",
    "\n",
    "#df.loc[filterObj, 'Location'] here Location is the column name, so the records which satisfy the boolean condition based on the column will appear here."
   ]
  },
  {
   "cell_type": "code",
   "execution_count": 98,
   "metadata": {},
   "outputs": [],
   "source": [
    "# We can have many filtering condition using and(&), or(|) \n",
    "\n",
    "filerObj = (df['Hobby']=='Reading') & (df['FName']=='Mukesh')\n",
    "\n",
    "#filerObj = (df['Hobby']=='Study') | (df['FName']=='Admin')"
   ]
  },
  {
   "cell_type": "code",
   "execution_count": 99,
   "metadata": {},
   "outputs": [
    {
     "data": {
      "text/html": [
       "<div>\n",
       "<style scoped>\n",
       "    .dataframe tbody tr th:only-of-type {\n",
       "        vertical-align: middle;\n",
       "    }\n",
       "\n",
       "    .dataframe tbody tr th {\n",
       "        vertical-align: top;\n",
       "    }\n",
       "\n",
       "    .dataframe thead th {\n",
       "        text-align: right;\n",
       "    }\n",
       "</style>\n",
       "<table border=\"1\" class=\"dataframe\">\n",
       "  <thead>\n",
       "    <tr style=\"text-align: right;\">\n",
       "      <th></th>\n",
       "      <th>index</th>\n",
       "      <th>Hobby</th>\n",
       "      <th>FName</th>\n",
       "      <th>LName</th>\n",
       "      <th>Occupation</th>\n",
       "      <th>Location</th>\n",
       "      <th>PinCode</th>\n",
       "    </tr>\n",
       "  </thead>\n",
       "  <tbody>\n",
       "    <tr>\n",
       "      <th>0</th>\n",
       "      <td>0</td>\n",
       "      <td>Reading</td>\n",
       "      <td>Mukesh</td>\n",
       "      <td>Yadav</td>\n",
       "      <td>Engineer</td>\n",
       "      <td>Jaipur</td>\n",
       "      <td>303106</td>\n",
       "    </tr>\n",
       "  </tbody>\n",
       "</table>\n",
       "</div>"
      ],
      "text/plain": [
       "   index    Hobby   FName  LName Occupation Location PinCode\n",
       "0      0  Reading  Mukesh  Yadav   Engineer   Jaipur  303106"
      ]
     },
     "execution_count": 99,
     "metadata": {},
     "output_type": "execute_result"
    }
   ],
   "source": [
    "df.loc[filerObj]"
   ]
  },
  {
   "cell_type": "code",
   "execution_count": 100,
   "metadata": {},
   "outputs": [
    {
     "data": {
      "text/plain": [
       "1    Product Ownor\n",
       "2        Architect\n",
       "Name: Occupation, dtype: object"
      ]
     },
     "execution_count": 100,
     "metadata": {},
     "output_type": "execute_result"
    }
   ],
   "source": [
    "# Also we can do a negative condition\n",
    "df.loc[~filerObj, 'Occupation']"
   ]
  },
  {
   "cell_type": "code",
   "execution_count": null,
   "metadata": {},
   "outputs": [],
   "source": []
  },
  {
   "cell_type": "code",
   "execution_count": null,
   "metadata": {},
   "outputs": [],
   "source": []
  },
  {
   "cell_type": "code",
   "execution_count": null,
   "metadata": {},
   "outputs": [],
   "source": []
  }
 ],
 "metadata": {
  "kernelspec": {
   "display_name": "Python 3",
   "language": "python",
   "name": "python3"
  },
  "language_info": {
   "codemirror_mode": {
    "name": "ipython",
    "version": 3
   },
   "file_extension": ".py",
   "mimetype": "text/x-python",
   "name": "python",
   "nbconvert_exporter": "python",
   "pygments_lexer": "ipython3",
   "version": "3.6.8"
  }
 },
 "nbformat": 4,
 "nbformat_minor": 2
}
